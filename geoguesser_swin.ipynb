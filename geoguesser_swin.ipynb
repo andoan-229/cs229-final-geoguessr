{
 "cells": [
  {
   "cell_type": "code",
   "execution_count": null,
   "metadata": {
    "colab": {
     "base_uri": "https://localhost:8080/"
    },
    "collapsed": true,
    "id": "6TEi0UiLivka",
    "outputId": "9d42f98b-de6f-4d00-cf76-e26367ed2477"
   },
   "outputs": [],
   "source": [
    "!pip install torch torchvision timm"
   ]
  },
  {
   "cell_type": "markdown",
   "metadata": {
    "id": "_jty59Y-xoHx"
   },
   "source": [
    "# SWIN for GeoLocation Mapping"
   ]
  },
  {
   "cell_type": "code",
   "execution_count": null,
   "metadata": {
    "id": "H7PGDu0Jks35"
   },
   "outputs": [],
   "source": [
    "import torch\n",
    "import torchvision\n",
    "import timm\n",
    "from torchvision import transforms, datasets\n",
    "from torch.utils.data import DataLoader\n",
    "import torch.nn as nn\n",
    "import torch.optim as optim"
   ]
  },
  {
   "cell_type": "code",
   "execution_count": null,
   "metadata": {
    "colab": {
     "base_uri": "https://localhost:8080/"
    },
    "collapsed": true,
    "id": "yLQ_cCoEuQFO",
    "outputId": "54cf4da2-b672-4068-d3da-36384006dcdb"
   },
   "outputs": [],
   "source": [
    "from google.colab import drive\n",
    "drive.mount('/content/drive', force_remount=True)\n",
    "!ls /content/drive/MyDrive/proj\n",
    "!ls /content/drive/MyDrive/proj_test/test_data/"
   ]
  },
  {
   "cell_type": "markdown",
   "metadata": {
    "id": "Jqj-tKuyxx2T"
   },
   "source": [
    "# Helpers for saving and loading model training progress"
   ]
  },
  {
   "cell_type": "code",
   "execution_count": null,
   "metadata": {
    "id": "IQlQ8x70AyJo"
   },
   "outputs": [],
   "source": [
    "import os\n",
    "import torch\n",
    "\n",
    "# Paths for saving/loading\n",
    "model_save_path = '/content/drive/MyDrive/swin_model.pth'\n",
    "optimizer_save_path = '/content/drive/MyDrive/swin_optimizer.pth'\n",
    "\n",
    "def save_model(model, optimizer, epoch):\n",
    "    torch.save({\n",
    "        'epoch': epoch,\n",
    "        'model_state_dict': model.state_dict(),\n",
    "        'optimizer_state_dict': optimizer.state_dict(),\n",
    "    }, model_save_path)\n",
    "    print(f\"Model saved after epoch {epoch}\")\n",
    "\n",
    "def load_model(model, optimizer):\n",
    "    \"\"\"Load the model and optimizer states.\"\"\"\n",
    "    if os.path.exists(model_save_path):\n",
    "        checkpoint = torch.load(model_save_path)\n",
    "        model.load_state_dict(checkpoint['model_state_dict'])\n",
    "        optimizer.load_state_dict(checkpoint['optimizer_state_dict'])\n",
    "        start_epoch = checkpoint['epoch'] + 1\n",
    "        print(f\"Model loaded. Resuming from epoch {start_epoch}\")\n",
    "        return start_epoch\n",
    "    else:\n",
    "        print(\"No saved model found. Starting from scratch.\")\n",
    "        return 1"
   ]
  },
  {
   "cell_type": "markdown",
   "metadata": {
    "id": "miwbJvUByMF4"
   },
   "source": [
    "# Data Preparation"
   ]
  },
  {
   "cell_type": "code",
   "execution_count": null,
   "metadata": {
    "id": "qKDWwQCwkwHj"
   },
   "outputs": [],
   "source": [
    "# Reshape images to 224x224 and normalize\n",
    "transform = transforms.Compose([\n",
    "    transforms.Resize((224, 224)),\n",
    "    transforms.ToTensor(),\n",
    "    transforms.Normalize([0.485, 0.456, 0.406], [0.229, 0.224, 0.225]),\n",
    "])\n",
    "\n",
    "# Define directories for train and load them\n",
    "data_dir_train = \"/content/drive/MyDrive/proj\"\n",
    "train_dataset = datasets.ImageFolder(root=data_dir_train, transform=transform, is_valid_file=lambda x: 'info.txt' not in x)"
   ]
  },
  {
   "cell_type": "code",
   "execution_count": null,
   "metadata": {
    "id": "FQ6MOIoMyW8Y"
   },
   "outputs": [],
   "source": [
    "batch_size = 32\n",
    "train_loader = DataLoader(train_dataset, batch_size=batch_size, shuffle=True, num_workers=12)"
   ]
  },
  {
   "cell_type": "markdown",
   "metadata": {
    "id": "6Ac_OQA_ysoI"
   },
   "source": [
    "# SWIN Model Setup"
   ]
  },
  {
   "cell_type": "code",
   "execution_count": null,
   "metadata": {
    "colab": {
     "base_uri": "https://localhost:8080/",
     "height": 171,
     "referenced_widgets": [
      "6abd6f3fd48f4884ac06a25b85ec4b9d",
      "684fb62f5821451fbe0765326f5ca66e",
      "ec875ee1662b4cd784aad59f33504c21",
      "3eb842abce9e448ab6896fde819fbfe2",
      "ae716c1dc4414b3694c81960edff05a4",
      "b9423185f71c4ea182075aa88e1c0c2c",
      "c84d3959b66d426891299abfcdd412b1",
      "4f3a7644080b48faa773cbddb0e4b763",
      "e175e26c1a2f4e9b99beaae1c2f70efc",
      "88d66d33a8c146cab75a08f2b3975f28",
      "87c027eae80a4ac88e805302418df270"
     ]
    },
    "id": "v5jkPHXKk1IQ",
    "outputId": "1af111fa-2936-4394-a93d-a0cdb6163f02"
   },
   "outputs": [],
   "source": [
    "model = timm.create_model('swin_large_patch4_window7_224', pretrained=True, num_classes=len(train_dataset.classes))\n",
    "device = torch.device(\"cuda\")\n",
    "model = model.to(device)"
   ]
  },
  {
   "cell_type": "markdown",
   "metadata": {
    "id": "OJFFnVP2y0xz"
   },
   "source": [
    "# Loss Function and Optimizer"
   ]
  },
  {
   "cell_type": "code",
   "execution_count": null,
   "metadata": {
    "id": "CUmK0RNIk4fN"
   },
   "outputs": [],
   "source": [
    "loss_fn = nn.CrossEntropyLoss()\n",
    "adam_optimizer = optim.Adam(model.parameters(), lr=1e-4)"
   ]
  },
  {
   "cell_type": "markdown",
   "metadata": {
    "id": "38dU9OeAzWik"
   },
   "source": [
    "# Training Loop"
   ]
  },
  {
   "cell_type": "code",
   "execution_count": null,
   "metadata": {
    "id": "WOd35zaBYLpE"
   },
   "outputs": [],
   "source": [
    "epochs = 10\n",
    "for epoch in range(1, 11):\n",
    "  ##  Hack Logic in case Google Colab Timedout\n",
    "  # transform = transforms.Compose([\n",
    "  #     transforms.Resize((224, 224)),\n",
    "  #     transforms.ToTensor(),\n",
    "  #     transforms.Normalize([0.485, 0.456, 0.406], [0.229, 0.224, 0.225]),\n",
    "  # ])\n",
    "  # data_dir_train = \"/content/drive/MyDrive/proj\"\n",
    "  # train_dataset = datasets.ImageFolder(root=data_dir_train, transform=transform, is_valid_file=lambda x: 'info.txt' not in x)\n",
    "  # train_loader = DataLoader(train_dataset, batch_size=32, shuffle=True, num_workers=12)\n",
    "\n",
    "  # # Reload the model\n",
    "  # model = timm.create_model('swin_large_patch4_window7_224', pretrained=False, num_classes=len(train_dataset.classes))\n",
    "  # device = torch.device(\"cuda\")\n",
    "  # model = model.to(device)\n",
    "  # criterion = nn.CrossEntropyLoss()\n",
    "  # optimizer = optim.Adam(model.parameters(), lr=1e-4)\n",
    "\n",
    "  # load_model(model, optimizer)\n",
    "\n",
    "  model.train()\n",
    "  running_loss = 0.0\n",
    "  i = 0\n",
    "  for inputs, labels in train_loader:\n",
    "      i += 1\n",
    "      if i % 10 == 0:\n",
    "          print(i)\n",
    "      inputs, labels = inputs.to(device), labels.to(device)\n",
    "      adam_optimizer.zero_grad()\n",
    "      outputs = model(inputs)\n",
    "      loss = loss_fn(outputs, labels)\n",
    "      loss.backward()\n",
    "      adam_optimizer.step()\n",
    "      running_loss += loss.item()\n",
    "  print(f\"Epoch [{epoch}/{epochs}], Loss: {running_loss / len(train_loader):.4f}\")\n",
    "\n",
    "  save_model(model, adam_optimizer, epoch)\n",
    "print(\"Training Complete\")"
   ]
  },
  {
   "cell_type": "markdown",
   "metadata": {
    "id": "SCVYVkDQ0kRt"
   },
   "source": [
    "# Evaluation Loop"
   ]
  },
  {
   "cell_type": "code",
   "execution_count": null,
   "metadata": {
    "id": "5C3QxrbLk-e2"
   },
   "outputs": [],
   "source": [
    "from collections import defaultdict\n",
    "\n",
    "# Load Test Data\n",
    "data_dir_test = \"/content/drive/MyDrive/proj_test/test_data/\"\n",
    "test_dataset = datasets.ImageFolder(root=data_dir_test, transform=transform, is_valid_file=lambda x: 'info.txt' not in x)\n",
    "test_loader = DataLoader(test_dataset, batch_size=batch_size, shuffle=False, num_workers=12)\n",
    "\n",
    "model.eval()\n",
    "correct_top1 = 0\n",
    "correct_top5 = 0\n",
    "total = 0\n",
    "print(len(test_loader))\n",
    "i = 0\n",
    "\n",
    "# Dictionaries to keep track of counts for each state\n",
    "correct_top1_per_label = defaultdict(int)\n",
    "correct_top5_per_label = defaultdict(int)\n",
    "total_count_per_label = defaultdict(int)\n",
    "\n",
    "with torch.no_grad():\n",
    "    for inputs, labels in test_loader:\n",
    "        inputs, labels = inputs.to(device), labels.to(device)\n",
    "        if i % 10 == 0:\n",
    "          print(i)\n",
    "        i += 1\n",
    "\n",
    "        outputs = model(inputs)\n",
    "        total += labels.size(0)\n",
    "        unique_labels, counts = labels.unique(return_counts=True)\n",
    "        for label, count in zip(unique_labels, counts):\n",
    "            total_count_per_label[label.item()] += count.item()\n",
    "\n",
    "        # Top-1 accuracy\n",
    "        _, predicted = torch.max(outputs, 1)  # Get the top-1 prediction for each image\n",
    "        correct_top1 += (predicted == labels).sum().item()\n",
    "\n",
    "        # Update per-label correct top-1 counts (corrected to increment by 1 per correct label)\n",
    "        correct_labels_mask = (predicted == labels)\n",
    "        correct_labels = labels[correct_labels_mask]\n",
    "        for label in correct_labels:\n",
    "            correct_top1_per_label[label.item()] += 1\n",
    "            print(label.item())\n",
    "\n",
    "        # Top-5 accuracy\n",
    "        _, top5_pred = torch.topk(outputs, 5, dim=1)  # Get the top-5 predictions for each image\n",
    "        for idx, label in enumerate(labels):\n",
    "            if label in top5_pred[idx]:\n",
    "                correct_top5 += 1\n",
    "                correct_top5_per_label[label.item()] += 1\n",
    "\n",
    "# Print overall accuracies\n",
    "print(f'Top-1 Accuracy: {100 * correct_top1 / total:.2f}%')\n",
    "print(f' Top-5 Accuracy: {100 * correct_top5 / total:.2f}%')\n",
    "\n",
    "# Calculate and print per-state accuracies\n",
    "class_names = train_dataset.classes  # Get class names (state names) from the dataset\n",
    "\n",
    "print(\"\\nPer-State Top-1 and Top-5 Accuracies:\")\n",
    "for label, state_name in enumerate(class_names):\n",
    "    total_per_label = total_count_per_label[label]\n",
    "    top1_accuracy = (correct_top1_per_label[label] / total_per_label) * 100\n",
    "    top5_accuracy = (correct_top5_per_label[label] / total_per_label) * 100\n",
    "    print(f\"{state_name}: Top-1 Accuracy: {top1_accuracy:.2f}%, Top-5 Accuracy: {top5_accuracy:.2f}%\")"
   ]
  }
 ],
 "metadata": {
  "colab": {
   "gpuType": "T4",
   "machine_shape": "hm",
   "provenance": []
  },
  "kernelspec": {
   "display_name": "Python 3",
   "name": "python3"
  },
  "language_info": {
   "name": "python"
  },
  "widgets": {
   "application/vnd.jupyter.widget-state+json": {
    "3eb842abce9e448ab6896fde819fbfe2": {
     "model_module": "@jupyter-widgets/controls",
     "model_module_version": "1.5.0",
     "model_name": "HTMLModel",
     "state": {
      "_dom_classes": [],
      "_model_module": "@jupyter-widgets/controls",
      "_model_module_version": "1.5.0",
      "_model_name": "HTMLModel",
      "_view_count": null,
      "_view_module": "@jupyter-widgets/controls",
      "_view_module_version": "1.5.0",
      "_view_name": "HTMLView",
      "description": "",
      "description_tooltip": null,
      "layout": "IPY_MODEL_88d66d33a8c146cab75a08f2b3975f28",
      "placeholder": "​",
      "style": "IPY_MODEL_87c027eae80a4ac88e805302418df270",
      "value": " 788M/788M [00:04&lt;00:00, 209MB/s]"
     }
    },
    "4f3a7644080b48faa773cbddb0e4b763": {
     "model_module": "@jupyter-widgets/base",
     "model_module_version": "1.2.0",
     "model_name": "LayoutModel",
     "state": {
      "_model_module": "@jupyter-widgets/base",
      "_model_module_version": "1.2.0",
      "_model_name": "LayoutModel",
      "_view_count": null,
      "_view_module": "@jupyter-widgets/base",
      "_view_module_version": "1.2.0",
      "_view_name": "LayoutView",
      "align_content": null,
      "align_items": null,
      "align_self": null,
      "border": null,
      "bottom": null,
      "display": null,
      "flex": null,
      "flex_flow": null,
      "grid_area": null,
      "grid_auto_columns": null,
      "grid_auto_flow": null,
      "grid_auto_rows": null,
      "grid_column": null,
      "grid_gap": null,
      "grid_row": null,
      "grid_template_areas": null,
      "grid_template_columns": null,
      "grid_template_rows": null,
      "height": null,
      "justify_content": null,
      "justify_items": null,
      "left": null,
      "margin": null,
      "max_height": null,
      "max_width": null,
      "min_height": null,
      "min_width": null,
      "object_fit": null,
      "object_position": null,
      "order": null,
      "overflow": null,
      "overflow_x": null,
      "overflow_y": null,
      "padding": null,
      "right": null,
      "top": null,
      "visibility": null,
      "width": null
     }
    },
    "684fb62f5821451fbe0765326f5ca66e": {
     "model_module": "@jupyter-widgets/controls",
     "model_module_version": "1.5.0",
     "model_name": "HTMLModel",
     "state": {
      "_dom_classes": [],
      "_model_module": "@jupyter-widgets/controls",
      "_model_module_version": "1.5.0",
      "_model_name": "HTMLModel",
      "_view_count": null,
      "_view_module": "@jupyter-widgets/controls",
      "_view_module_version": "1.5.0",
      "_view_name": "HTMLView",
      "description": "",
      "description_tooltip": null,
      "layout": "IPY_MODEL_b9423185f71c4ea182075aa88e1c0c2c",
      "placeholder": "​",
      "style": "IPY_MODEL_c84d3959b66d426891299abfcdd412b1",
      "value": "model.safetensors: 100%"
     }
    },
    "6abd6f3fd48f4884ac06a25b85ec4b9d": {
     "model_module": "@jupyter-widgets/controls",
     "model_module_version": "1.5.0",
     "model_name": "HBoxModel",
     "state": {
      "_dom_classes": [],
      "_model_module": "@jupyter-widgets/controls",
      "_model_module_version": "1.5.0",
      "_model_name": "HBoxModel",
      "_view_count": null,
      "_view_module": "@jupyter-widgets/controls",
      "_view_module_version": "1.5.0",
      "_view_name": "HBoxView",
      "box_style": "",
      "children": [
       "IPY_MODEL_684fb62f5821451fbe0765326f5ca66e",
       "IPY_MODEL_ec875ee1662b4cd784aad59f33504c21",
       "IPY_MODEL_3eb842abce9e448ab6896fde819fbfe2"
      ],
      "layout": "IPY_MODEL_ae716c1dc4414b3694c81960edff05a4"
     }
    },
    "87c027eae80a4ac88e805302418df270": {
     "model_module": "@jupyter-widgets/controls",
     "model_module_version": "1.5.0",
     "model_name": "DescriptionStyleModel",
     "state": {
      "_model_module": "@jupyter-widgets/controls",
      "_model_module_version": "1.5.0",
      "_model_name": "DescriptionStyleModel",
      "_view_count": null,
      "_view_module": "@jupyter-widgets/base",
      "_view_module_version": "1.2.0",
      "_view_name": "StyleView",
      "description_width": ""
     }
    },
    "88d66d33a8c146cab75a08f2b3975f28": {
     "model_module": "@jupyter-widgets/base",
     "model_module_version": "1.2.0",
     "model_name": "LayoutModel",
     "state": {
      "_model_module": "@jupyter-widgets/base",
      "_model_module_version": "1.2.0",
      "_model_name": "LayoutModel",
      "_view_count": null,
      "_view_module": "@jupyter-widgets/base",
      "_view_module_version": "1.2.0",
      "_view_name": "LayoutView",
      "align_content": null,
      "align_items": null,
      "align_self": null,
      "border": null,
      "bottom": null,
      "display": null,
      "flex": null,
      "flex_flow": null,
      "grid_area": null,
      "grid_auto_columns": null,
      "grid_auto_flow": null,
      "grid_auto_rows": null,
      "grid_column": null,
      "grid_gap": null,
      "grid_row": null,
      "grid_template_areas": null,
      "grid_template_columns": null,
      "grid_template_rows": null,
      "height": null,
      "justify_content": null,
      "justify_items": null,
      "left": null,
      "margin": null,
      "max_height": null,
      "max_width": null,
      "min_height": null,
      "min_width": null,
      "object_fit": null,
      "object_position": null,
      "order": null,
      "overflow": null,
      "overflow_x": null,
      "overflow_y": null,
      "padding": null,
      "right": null,
      "top": null,
      "visibility": null,
      "width": null
     }
    },
    "ae716c1dc4414b3694c81960edff05a4": {
     "model_module": "@jupyter-widgets/base",
     "model_module_version": "1.2.0",
     "model_name": "LayoutModel",
     "state": {
      "_model_module": "@jupyter-widgets/base",
      "_model_module_version": "1.2.0",
      "_model_name": "LayoutModel",
      "_view_count": null,
      "_view_module": "@jupyter-widgets/base",
      "_view_module_version": "1.2.0",
      "_view_name": "LayoutView",
      "align_content": null,
      "align_items": null,
      "align_self": null,
      "border": null,
      "bottom": null,
      "display": null,
      "flex": null,
      "flex_flow": null,
      "grid_area": null,
      "grid_auto_columns": null,
      "grid_auto_flow": null,
      "grid_auto_rows": null,
      "grid_column": null,
      "grid_gap": null,
      "grid_row": null,
      "grid_template_areas": null,
      "grid_template_columns": null,
      "grid_template_rows": null,
      "height": null,
      "justify_content": null,
      "justify_items": null,
      "left": null,
      "margin": null,
      "max_height": null,
      "max_width": null,
      "min_height": null,
      "min_width": null,
      "object_fit": null,
      "object_position": null,
      "order": null,
      "overflow": null,
      "overflow_x": null,
      "overflow_y": null,
      "padding": null,
      "right": null,
      "top": null,
      "visibility": null,
      "width": null
     }
    },
    "b9423185f71c4ea182075aa88e1c0c2c": {
     "model_module": "@jupyter-widgets/base",
     "model_module_version": "1.2.0",
     "model_name": "LayoutModel",
     "state": {
      "_model_module": "@jupyter-widgets/base",
      "_model_module_version": "1.2.0",
      "_model_name": "LayoutModel",
      "_view_count": null,
      "_view_module": "@jupyter-widgets/base",
      "_view_module_version": "1.2.0",
      "_view_name": "LayoutView",
      "align_content": null,
      "align_items": null,
      "align_self": null,
      "border": null,
      "bottom": null,
      "display": null,
      "flex": null,
      "flex_flow": null,
      "grid_area": null,
      "grid_auto_columns": null,
      "grid_auto_flow": null,
      "grid_auto_rows": null,
      "grid_column": null,
      "grid_gap": null,
      "grid_row": null,
      "grid_template_areas": null,
      "grid_template_columns": null,
      "grid_template_rows": null,
      "height": null,
      "justify_content": null,
      "justify_items": null,
      "left": null,
      "margin": null,
      "max_height": null,
      "max_width": null,
      "min_height": null,
      "min_width": null,
      "object_fit": null,
      "object_position": null,
      "order": null,
      "overflow": null,
      "overflow_x": null,
      "overflow_y": null,
      "padding": null,
      "right": null,
      "top": null,
      "visibility": null,
      "width": null
     }
    },
    "c84d3959b66d426891299abfcdd412b1": {
     "model_module": "@jupyter-widgets/controls",
     "model_module_version": "1.5.0",
     "model_name": "DescriptionStyleModel",
     "state": {
      "_model_module": "@jupyter-widgets/controls",
      "_model_module_version": "1.5.0",
      "_model_name": "DescriptionStyleModel",
      "_view_count": null,
      "_view_module": "@jupyter-widgets/base",
      "_view_module_version": "1.2.0",
      "_view_name": "StyleView",
      "description_width": ""
     }
    },
    "e175e26c1a2f4e9b99beaae1c2f70efc": {
     "model_module": "@jupyter-widgets/controls",
     "model_module_version": "1.5.0",
     "model_name": "ProgressStyleModel",
     "state": {
      "_model_module": "@jupyter-widgets/controls",
      "_model_module_version": "1.5.0",
      "_model_name": "ProgressStyleModel",
      "_view_count": null,
      "_view_module": "@jupyter-widgets/base",
      "_view_module_version": "1.2.0",
      "_view_name": "StyleView",
      "bar_color": null,
      "description_width": ""
     }
    },
    "ec875ee1662b4cd784aad59f33504c21": {
     "model_module": "@jupyter-widgets/controls",
     "model_module_version": "1.5.0",
     "model_name": "FloatProgressModel",
     "state": {
      "_dom_classes": [],
      "_model_module": "@jupyter-widgets/controls",
      "_model_module_version": "1.5.0",
      "_model_name": "FloatProgressModel",
      "_view_count": null,
      "_view_module": "@jupyter-widgets/controls",
      "_view_module_version": "1.5.0",
      "_view_name": "ProgressView",
      "bar_style": "success",
      "description": "",
      "description_tooltip": null,
      "layout": "IPY_MODEL_4f3a7644080b48faa773cbddb0e4b763",
      "max": 787742820,
      "min": 0,
      "orientation": "horizontal",
      "style": "IPY_MODEL_e175e26c1a2f4e9b99beaae1c2f70efc",
      "value": 787742820
     }
    }
   }
  }
 },
 "nbformat": 4,
 "nbformat_minor": 0
}
