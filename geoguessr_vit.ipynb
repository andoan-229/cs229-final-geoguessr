{
 "cells": [
  {
   "cell_type": "markdown",
   "metadata": {},
   "source": [
    "# ViT for GeoLocation Mapping"
   ]
  },
  {
   "cell_type": "code",
   "execution_count": null,
   "metadata": {
    "id": "09y8SMKbYS5T"
   },
   "outputs": [],
   "source": [
    "import torch\n",
    "import torchvision\n",
    "import timm\n",
    "from torchvision import transforms, datasets\n",
    "from torch.utils.data import DataLoader\n",
    "import torch.nn as nn\n",
    "import torch.optim as optim"
   ]
  },
  {
   "cell_type": "code",
   "execution_count": null,
   "metadata": {
    "colab": {
     "base_uri": "https://localhost:8080/"
    },
    "executionInfo": {
     "elapsed": 19427,
     "status": "ok",
     "timestamp": 1731085598893,
     "user": {
      "displayName": "Esteban Barrero",
      "userId": "05583753764448657646"
     },
     "user_tz": 480
    },
    "id": "DVXFy4Z5YmlB",
    "outputId": "e23321e7-4539-43e7-f8be-8e211cc8ea42"
   },
   "outputs": [],
   "source": [
    "# Mount uploaded state images from Google Drive\n",
    "from google.colab import drive\n",
    "drive.mount('/content/drive')\n",
    "!ls /content/drive/MyDrive/proj\n",
    "!ls /content/drive/MyDrive/proj_test/test_data/"
   ]
  },
  {
   "cell_type": "markdown",
   "metadata": {},
   "source": [
    "## Data Preparation"
   ]
  },
  {
   "cell_type": "code",
   "execution_count": null,
   "metadata": {
    "id": "FfOTTyFoYorz"
   },
   "outputs": [],
   "source": [
    "# Reshape images to 224x224 and normalize\n",
    "transform = transforms.Compose([\n",
    "    transforms.Resize((224, 224)),\n",
    "    transforms.ToTensor(),\n",
    "    transforms.Normalize([0.485, 0.456, 0.406], [0.229, 0.224, 0.225]),\n",
    "])\n",
    "\n",
    "# Define directories for train and test and load them\n",
    "data_dir_train = \"/content/drive/MyDrive/proj\"\n",
    "data_dir_test = \"/content/drive/MyDrive/proj_test/test_data/\"\n",
    "\n",
    "dataset_train = datasets.ImageFolder(root=data_dir_train, transform=transform, is_valid_file=lambda x: 'info.txt' not in x)\n",
    "dataset_test = datasets.ImageFolder(root=data_dir_test, transform=transform, is_valid_file=lambda x: 'info.txt' not in x)"
   ]
  },
  {
   "cell_type": "code",
   "execution_count": null,
   "metadata": {},
   "outputs": [],
   "source": [
    "batch_size = 32\n",
    "train_loader = DataLoader(dataset_train, batch_size=batch_size, shuffle=True, num_workers=12)\n",
    "test_loader = DataLoader(dataset_test, batch_size=batch_size, shuffle=False, num_workers=12)"
   ]
  },
  {
   "cell_type": "markdown",
   "metadata": {},
   "source": [
    "## ViT Model Setup"
   ]
  },
  {
   "cell_type": "code",
   "execution_count": null,
   "metadata": {
    "colab": {
     "base_uri": "https://localhost:8080/",
     "height": 171,
     "referenced_widgets": [
      "b6dc6a4276db43beb1e9e895cfd502bd",
      "86efef2f5b7a470c97ee38ff94939112",
      "2db26532573f4b9a9c098540891b343e",
      "e3731e6efc1d4bcfa80b595890f00bb4",
      "c5147ec8dda6422a996b3823c2c192d4",
      "b4ca855c97fa4fc5be27e7b0379da88d",
      "d5dfd52e7f4f4bbdab7416fb9dd55afe",
      "4a74851dff654fcf99dba28c88392765",
      "64c4f9d4a5614b6fbb9e8d8d565c7509",
      "02dcdc5e2ee541e99f89c03a8d2cd94e",
      "fceb951b09de43359c574d7121594cc9"
     ]
    },
    "executionInfo": {
     "elapsed": 2241,
     "status": "ok",
     "timestamp": 1731086281106,
     "user": {
      "displayName": "Esteban Barrero",
      "userId": "05583753764448657646"
     },
     "user_tz": 480
    },
    "id": "fp2B-2oGYs_S",
    "outputId": "f9114911-f373-49d7-8bf7-38d3b45174fc"
   },
   "outputs": [],
   "source": [
    "# Using vit_base_patch16_224 -- 12 layers, 224x224\n",
    "model = timm.create_model('vit_small_patch16_224', pretrained=True, num_classes=len(dataset_train.classes))\n",
    "device = torch.device(\"cuda\" if torch.cuda.is_available() else \"cpu\")\n",
    "model = model.to(device)"
   ]
  },
  {
   "cell_type": "markdown",
   "metadata": {},
   "source": [
    "## Loss Function and Optimizer"
   ]
  },
  {
   "cell_type": "code",
   "execution_count": null,
   "metadata": {
    "id": "j3w1_FxAYxD4"
   },
   "outputs": [],
   "source": [
    "loss_fn = nn.CrossEntropyLoss()\n",
    "adam_optimizer = optim.Adam(model.parameters(), lr=1e-4)"
   ]
  },
  {
   "cell_type": "markdown",
   "metadata": {},
   "source": [
    "## Training Loop\n",
    "### Using 10 epochs"
   ]
  },
  {
   "cell_type": "code",
   "execution_count": null,
   "metadata": {
    "colab": {
     "base_uri": "https://localhost:8080/"
    },
    "executionInfo": {
     "elapsed": 22967763,
     "status": "ok",
     "timestamp": 1731109248861,
     "user": {
      "displayName": "Esteban Barrero",
      "userId": "05583753764448657646"
     },
     "user_tz": 480
    },
    "id": "MYbBDihQY2b5",
    "outputId": "8deecf49-99f7-411c-c0c1-f18ef5ccbf73"
   },
   "outputs": [],
   "source": [
    "epochs = 10\n",
    "print(len(train_loader))\n",
    "i = 0\n",
    "for epoch in range(epochs):\n",
    "    model.train()\n",
    "    running_loss = 0.0\n",
    "    for inputs, labels in train_loader:\n",
    "        i += 1\n",
    "        if i % 10 == 0:\n",
    "          print(i)\n",
    "        inputs, labels = inputs.to(device), labels.to(device)\n",
    "        adam_optimizer.zero_grad()\n",
    "        outputs = model(inputs)\n",
    "        loss = loss_fn(outputs, labels)\n",
    "        loss.backward()\n",
    "        adam_optimizer.step()\n",
    "        running_loss += loss.item()\n",
    "    print(f\"Epoch [{epoch + 1}/{epochs}], Loss: {running_loss / len(train_loader):.4f}\")\n",
    "\n",
    "print(\"Training Complete\")"
   ]
  },
  {
   "cell_type": "markdown",
   "metadata": {},
   "source": [
    "## Evaluation Loop"
   ]
  },
  {
   "cell_type": "code",
   "execution_count": null,
   "metadata": {
    "colab": {
     "base_uri": "https://localhost:8080/"
    },
    "executionInfo": {
     "elapsed": 2008919,
     "status": "ok",
     "timestamp": 1731111257771,
     "user": {
      "displayName": "Esteban Barrero",
      "userId": "05583753764448657646"
     },
     "user_tz": 480
    },
    "id": "01JUgApJY4FS",
    "outputId": "3b6b0ffe-4b2b-4576-a8f6-ffca69ca763a"
   },
   "outputs": [],
   "source": [
    "model.eval()\n",
    "correct_top1 = 0\n",
    "correct_top5 = 0\n",
    "total = 0\n",
    "print(len(test_loader))\n",
    "i = 0\n",
    "with torch.no_grad():\n",
    "    for inputs, labels in test_loader:\n",
    "        if i % 10 == 0:\n",
    "          print(i)\n",
    "        i += 1\n",
    "        inputs, labels = inputs.to(device), labels.to(device)\n",
    "        outputs = model(inputs)\n",
    "        # Top-1 accuracy\n",
    "        _, predicted = torch.max(outputs, 1)\n",
    "        correct_top1 += (predicted == labels).sum().item()\n",
    "        # Top-5 accuracy\n",
    "        _, top5_pred = torch.topk(outputs, 5, dim=1)\n",
    "        correct_top5 += sum([labels[i] in top5_pred[i] for i in range(len(labels))])\n",
    "        total += labels.size(0)\n",
    "\n",
    "print(f'Top-1 Accuracy: {100 * correct_top1 / total:.2f}%')\n",
    "print(f'Top-5 Accuracy: {100 * correct_top5 / total:.2f}%')"
   ]
  }
 ],
 "metadata": {
  "accelerator": "GPU",
  "colab": {
   "gpuType": "T4",
   "machine_shape": "hm",
   "provenance": []
  },
  "kernelspec": {
   "display_name": "Python 3",
   "name": "python3"
  },
  "language_info": {
   "name": "python"
  },
  "widgets": {
   "application/vnd.jupyter.widget-state+json": {
    "02dcdc5e2ee541e99f89c03a8d2cd94e": {
     "model_module": "@jupyter-widgets/base",
     "model_module_version": "1.2.0",
     "model_name": "LayoutModel",
     "state": {
      "_model_module": "@jupyter-widgets/base",
      "_model_module_version": "1.2.0",
      "_model_name": "LayoutModel",
      "_view_count": null,
      "_view_module": "@jupyter-widgets/base",
      "_view_module_version": "1.2.0",
      "_view_name": "LayoutView",
      "align_content": null,
      "align_items": null,
      "align_self": null,
      "border": null,
      "bottom": null,
      "display": null,
      "flex": null,
      "flex_flow": null,
      "grid_area": null,
      "grid_auto_columns": null,
      "grid_auto_flow": null,
      "grid_auto_rows": null,
      "grid_column": null,
      "grid_gap": null,
      "grid_row": null,
      "grid_template_areas": null,
      "grid_template_columns": null,
      "grid_template_rows": null,
      "height": null,
      "justify_content": null,
      "justify_items": null,
      "left": null,
      "margin": null,
      "max_height": null,
      "max_width": null,
      "min_height": null,
      "min_width": null,
      "object_fit": null,
      "object_position": null,
      "order": null,
      "overflow": null,
      "overflow_x": null,
      "overflow_y": null,
      "padding": null,
      "right": null,
      "top": null,
      "visibility": null,
      "width": null
     }
    },
    "2db26532573f4b9a9c098540891b343e": {
     "model_module": "@jupyter-widgets/controls",
     "model_module_version": "1.5.0",
     "model_name": "FloatProgressModel",
     "state": {
      "_dom_classes": [],
      "_model_module": "@jupyter-widgets/controls",
      "_model_module_version": "1.5.0",
      "_model_name": "FloatProgressModel",
      "_view_count": null,
      "_view_module": "@jupyter-widgets/controls",
      "_view_module_version": "1.5.0",
      "_view_name": "ProgressView",
      "bar_style": "success",
      "description": "",
      "description_tooltip": null,
      "layout": "IPY_MODEL_4a74851dff654fcf99dba28c88392765",
      "max": 88216496,
      "min": 0,
      "orientation": "horizontal",
      "style": "IPY_MODEL_64c4f9d4a5614b6fbb9e8d8d565c7509",
      "value": 88216496
     }
    },
    "4a74851dff654fcf99dba28c88392765": {
     "model_module": "@jupyter-widgets/base",
     "model_module_version": "1.2.0",
     "model_name": "LayoutModel",
     "state": {
      "_model_module": "@jupyter-widgets/base",
      "_model_module_version": "1.2.0",
      "_model_name": "LayoutModel",
      "_view_count": null,
      "_view_module": "@jupyter-widgets/base",
      "_view_module_version": "1.2.0",
      "_view_name": "LayoutView",
      "align_content": null,
      "align_items": null,
      "align_self": null,
      "border": null,
      "bottom": null,
      "display": null,
      "flex": null,
      "flex_flow": null,
      "grid_area": null,
      "grid_auto_columns": null,
      "grid_auto_flow": null,
      "grid_auto_rows": null,
      "grid_column": null,
      "grid_gap": null,
      "grid_row": null,
      "grid_template_areas": null,
      "grid_template_columns": null,
      "grid_template_rows": null,
      "height": null,
      "justify_content": null,
      "justify_items": null,
      "left": null,
      "margin": null,
      "max_height": null,
      "max_width": null,
      "min_height": null,
      "min_width": null,
      "object_fit": null,
      "object_position": null,
      "order": null,
      "overflow": null,
      "overflow_x": null,
      "overflow_y": null,
      "padding": null,
      "right": null,
      "top": null,
      "visibility": null,
      "width": null
     }
    },
    "64c4f9d4a5614b6fbb9e8d8d565c7509": {
     "model_module": "@jupyter-widgets/controls",
     "model_module_version": "1.5.0",
     "model_name": "ProgressStyleModel",
     "state": {
      "_model_module": "@jupyter-widgets/controls",
      "_model_module_version": "1.5.0",
      "_model_name": "ProgressStyleModel",
      "_view_count": null,
      "_view_module": "@jupyter-widgets/base",
      "_view_module_version": "1.2.0",
      "_view_name": "StyleView",
      "bar_color": null,
      "description_width": ""
     }
    },
    "86efef2f5b7a470c97ee38ff94939112": {
     "model_module": "@jupyter-widgets/controls",
     "model_module_version": "1.5.0",
     "model_name": "HTMLModel",
     "state": {
      "_dom_classes": [],
      "_model_module": "@jupyter-widgets/controls",
      "_model_module_version": "1.5.0",
      "_model_name": "HTMLModel",
      "_view_count": null,
      "_view_module": "@jupyter-widgets/controls",
      "_view_module_version": "1.5.0",
      "_view_name": "HTMLView",
      "description": "",
      "description_tooltip": null,
      "layout": "IPY_MODEL_b4ca855c97fa4fc5be27e7b0379da88d",
      "placeholder": "​",
      "style": "IPY_MODEL_d5dfd52e7f4f4bbdab7416fb9dd55afe",
      "value": "model.safetensors: 100%"
     }
    },
    "b4ca855c97fa4fc5be27e7b0379da88d": {
     "model_module": "@jupyter-widgets/base",
     "model_module_version": "1.2.0",
     "model_name": "LayoutModel",
     "state": {
      "_model_module": "@jupyter-widgets/base",
      "_model_module_version": "1.2.0",
      "_model_name": "LayoutModel",
      "_view_count": null,
      "_view_module": "@jupyter-widgets/base",
      "_view_module_version": "1.2.0",
      "_view_name": "LayoutView",
      "align_content": null,
      "align_items": null,
      "align_self": null,
      "border": null,
      "bottom": null,
      "display": null,
      "flex": null,
      "flex_flow": null,
      "grid_area": null,
      "grid_auto_columns": null,
      "grid_auto_flow": null,
      "grid_auto_rows": null,
      "grid_column": null,
      "grid_gap": null,
      "grid_row": null,
      "grid_template_areas": null,
      "grid_template_columns": null,
      "grid_template_rows": null,
      "height": null,
      "justify_content": null,
      "justify_items": null,
      "left": null,
      "margin": null,
      "max_height": null,
      "max_width": null,
      "min_height": null,
      "min_width": null,
      "object_fit": null,
      "object_position": null,
      "order": null,
      "overflow": null,
      "overflow_x": null,
      "overflow_y": null,
      "padding": null,
      "right": null,
      "top": null,
      "visibility": null,
      "width": null
     }
    },
    "b6dc6a4276db43beb1e9e895cfd502bd": {
     "model_module": "@jupyter-widgets/controls",
     "model_module_version": "1.5.0",
     "model_name": "HBoxModel",
     "state": {
      "_dom_classes": [],
      "_model_module": "@jupyter-widgets/controls",
      "_model_module_version": "1.5.0",
      "_model_name": "HBoxModel",
      "_view_count": null,
      "_view_module": "@jupyter-widgets/controls",
      "_view_module_version": "1.5.0",
      "_view_name": "HBoxView",
      "box_style": "",
      "children": [
       "IPY_MODEL_86efef2f5b7a470c97ee38ff94939112",
       "IPY_MODEL_2db26532573f4b9a9c098540891b343e",
       "IPY_MODEL_e3731e6efc1d4bcfa80b595890f00bb4"
      ],
      "layout": "IPY_MODEL_c5147ec8dda6422a996b3823c2c192d4"
     }
    },
    "c5147ec8dda6422a996b3823c2c192d4": {
     "model_module": "@jupyter-widgets/base",
     "model_module_version": "1.2.0",
     "model_name": "LayoutModel",
     "state": {
      "_model_module": "@jupyter-widgets/base",
      "_model_module_version": "1.2.0",
      "_model_name": "LayoutModel",
      "_view_count": null,
      "_view_module": "@jupyter-widgets/base",
      "_view_module_version": "1.2.0",
      "_view_name": "LayoutView",
      "align_content": null,
      "align_items": null,
      "align_self": null,
      "border": null,
      "bottom": null,
      "display": null,
      "flex": null,
      "flex_flow": null,
      "grid_area": null,
      "grid_auto_columns": null,
      "grid_auto_flow": null,
      "grid_auto_rows": null,
      "grid_column": null,
      "grid_gap": null,
      "grid_row": null,
      "grid_template_areas": null,
      "grid_template_columns": null,
      "grid_template_rows": null,
      "height": null,
      "justify_content": null,
      "justify_items": null,
      "left": null,
      "margin": null,
      "max_height": null,
      "max_width": null,
      "min_height": null,
      "min_width": null,
      "object_fit": null,
      "object_position": null,
      "order": null,
      "overflow": null,
      "overflow_x": null,
      "overflow_y": null,
      "padding": null,
      "right": null,
      "top": null,
      "visibility": null,
      "width": null
     }
    },
    "d5dfd52e7f4f4bbdab7416fb9dd55afe": {
     "model_module": "@jupyter-widgets/controls",
     "model_module_version": "1.5.0",
     "model_name": "DescriptionStyleModel",
     "state": {
      "_model_module": "@jupyter-widgets/controls",
      "_model_module_version": "1.5.0",
      "_model_name": "DescriptionStyleModel",
      "_view_count": null,
      "_view_module": "@jupyter-widgets/base",
      "_view_module_version": "1.2.0",
      "_view_name": "StyleView",
      "description_width": ""
     }
    },
    "e3731e6efc1d4bcfa80b595890f00bb4": {
     "model_module": "@jupyter-widgets/controls",
     "model_module_version": "1.5.0",
     "model_name": "HTMLModel",
     "state": {
      "_dom_classes": [],
      "_model_module": "@jupyter-widgets/controls",
      "_model_module_version": "1.5.0",
      "_model_name": "HTMLModel",
      "_view_count": null,
      "_view_module": "@jupyter-widgets/controls",
      "_view_module_version": "1.5.0",
      "_view_name": "HTMLView",
      "description": "",
      "description_tooltip": null,
      "layout": "IPY_MODEL_02dcdc5e2ee541e99f89c03a8d2cd94e",
      "placeholder": "​",
      "style": "IPY_MODEL_fceb951b09de43359c574d7121594cc9",
      "value": " 88.2M/88.2M [00:00&lt;00:00, 147MB/s]"
     }
    },
    "fceb951b09de43359c574d7121594cc9": {
     "model_module": "@jupyter-widgets/controls",
     "model_module_version": "1.5.0",
     "model_name": "DescriptionStyleModel",
     "state": {
      "_model_module": "@jupyter-widgets/controls",
      "_model_module_version": "1.5.0",
      "_model_name": "DescriptionStyleModel",
      "_view_count": null,
      "_view_module": "@jupyter-widgets/base",
      "_view_module_version": "1.2.0",
      "_view_name": "StyleView",
      "description_width": ""
     }
    }
   }
  }
 },
 "nbformat": 4,
 "nbformat_minor": 0
}
