{
 "cells": [
  {
   "cell_type": "markdown",
   "metadata": {},
   "source": [
    "# EfficientNet for GeoLocation Mapping"
   ]
  },
  {
   "cell_type": "code",
   "execution_count": null,
   "metadata": {
    "id": "jl6TzVi7V6Go"
   },
   "outputs": [],
   "source": [
    "import torch\n",
    "import torchvision\n",
    "import timm\n",
    "from torchvision import transforms, datasets\n",
    "from torch.utils.data import DataLoader\n",
    "import torch.nn as nn\n",
    "import torch.optim as optim\n",
    "from google.colab import drive\n",
    "import os"
   ]
  },
  {
   "cell_type": "code",
   "execution_count": null,
   "metadata": {
    "colab": {
     "base_uri": "https://localhost:8080/"
    },
    "id": "EQ2ohQntmJry",
    "outputId": "899900a0-ca45-4999-8e61-d6ef7af4488f"
   },
   "outputs": [],
   "source": [
    "# Mount uploaded state images from Google Drive\n",
    "drive.mount('/content/drive/', force_remount=True)\n",
    "!ls /content/drive/MyDrive/proj/\n",
    "!ls /content/drive/MyDrive/proj_test/test_data/"
   ]
  },
  {
   "cell_type": "markdown",
   "metadata": {},
   "source": [
    "## Data Preparation"
   ]
  },
  {
   "cell_type": "code",
   "execution_count": null,
   "metadata": {
    "id": "vHxXGMFCWFsY"
   },
   "outputs": [],
   "source": [
    "# Reshape images to 224x224 and normalize\n",
    "transform = transforms.Compose([\n",
    "    transforms.Resize((224, 224)),\n",
    "    transforms.ToTensor(),\n",
    "    transforms.Normalize([0.485, 0.456, 0.406], [0.229, 0.224, 0.225]),\n",
    "])\n",
    "\n",
    "# Define directories for train and test and load them\n",
    "data_dir_train = \"/content/drive/MyDrive/proj\"\n",
    "data_dir_test = \"/content/drive/MyDrive/proj_test/test_data\"\n",
    "\n",
    "dataset_train = datasets.ImageFolder(root=data_dir_train, transform=transform, is_valid_file=lambda x: 'info.txt' not in x)\n",
    "dataset_test = datasets.ImageFolder(root=data_dir_test, transform=transform, is_valid_file=lambda x: 'info.txt' not in x)"
   ]
  },
  {
   "cell_type": "code",
   "execution_count": null,
   "metadata": {
    "id": "eFIZ6iOIty7P"
   },
   "outputs": [],
   "source": [
    "batch_size = 32\n",
    "train_loader = DataLoader(dataset_train, batch_size=batch_size, shuffle=True, num_workers=12)\n",
    "test_loader = DataLoader(dataset_test, batch_size=batch_size, shuffle=False, num_workers=12)"
   ]
  },
  {
   "cell_type": "markdown",
   "metadata": {},
   "source": [
    "## EfficientNet Model Setup"
   ]
  },
  {
   "cell_type": "code",
   "execution_count": null,
   "metadata": {
    "id": "c3be8KgtWKeB"
   },
   "outputs": [],
   "source": [
    "# Using b0 -- 16 layers, 224x224\n",
    "model = timm.create_model('efficientnet_b0', pretrained=True, num_classes=len(dataset_train.classes))\n",
    "device = torch.device(\"cuda\" if torch.cuda.is_available() else \"cpu\")\n",
    "model = model.to(device)"
   ]
  },
  {
   "cell_type": "markdown",
   "metadata": {},
   "source": [
    "## Loss Function and Optimizer"
   ]
  },
  {
   "cell_type": "code",
   "execution_count": null,
   "metadata": {
    "id": "_fzPV5NvWOYR"
   },
   "outputs": [],
   "source": [
    "loss_fn = nn.CrossEntropyLoss()\n",
    "adam_optimizer = optim.Adam(model.parameters(), lr=1e-4)"
   ]
  },
  {
   "cell_type": "markdown",
   "metadata": {},
   "source": [
    "## Training Loop\n",
    "### Using 10 epochs"
   ]
  },
  {
   "cell_type": "code",
   "execution_count": null,
   "metadata": {
    "colab": {
     "base_uri": "https://localhost:8080/"
    },
    "id": "Iu5x2jyHWQvV",
    "outputId": "19adccff-85ec-4478-ad7c-32867c42239d"
   },
   "outputs": [],
   "source": [
    "epochs = 10\n",
    "print(len(train_loader))\n",
    "i = 0\n",
    "for epoch in range(epochs):\n",
    "    model.train()\n",
    "    running_loss = 0.0\n",
    "    for inputs, labels in train_loader:\n",
    "        i += 1\n",
    "        if i % 10 == 0:\n",
    "          print(i)\n",
    "        inputs, labels = inputs.to(device), labels.to(device)\n",
    "        adam_optimizer.zero_grad()\n",
    "        outputs = model(inputs)\n",
    "        loss = loss_fn(outputs, labels)\n",
    "        loss.backward()\n",
    "        adam_optimizer.step()\n",
    "        running_loss += loss.item()\n",
    "    print(f\"Epoch [{epoch + 1}/{epochs}], Loss: {running_loss / len(train_loader):.4f}\")\n",
    "\n",
    "print(\"Training Complete\")"
   ]
  },
  {
   "cell_type": "markdown",
   "metadata": {},
   "source": [
    "## Evaluation Loop"
   ]
  },
  {
   "cell_type": "code",
   "execution_count": null,
   "metadata": {
    "colab": {
     "base_uri": "https://localhost:8080/"
    },
    "id": "iYMXdQvNWS3Z",
    "outputId": "cba059b5-36e3-4efd-c485-7b1da9ec4bf3"
   },
   "outputs": [],
   "source": [
    "model.eval()\n",
    "correct_top1 = 0\n",
    "correct_top5 = 0\n",
    "total = 0\n",
    "print(len(test_loader))\n",
    "i = 0\n",
    "with torch.no_grad():\n",
    "    for inputs, labels in test_loader:\n",
    "        if i % 10 == 0:\n",
    "          print(i)\n",
    "        i += 1\n",
    "        inputs, labels = inputs.to(device), labels.to(device)\n",
    "        outputs = model(inputs)\n",
    "        # Top-1 accuracy\n",
    "        _, predicted = torch.max(outputs, 1)\n",
    "        correct_top1 += (predicted == labels).sum().item()\n",
    "        # Top-5 accuracy\n",
    "        _, top5_pred = torch.topk(outputs, 5, dim=1)\n",
    "        correct_top5 += sum([labels[i] in top5_pred[i] for i in range(len(labels))])\n",
    "        total += labels.size(0)\n",
    "\n",
    "print(f'Top-1 Accuracy: {100 * correct_top1 / total:.2f}%')\n",
    "print(f'Top-5 Accuracy: {100 * correct_top5 / total:.2f}%')"
   ]
  }
 ],
 "metadata": {
  "accelerator": "GPU",
  "colab": {
   "gpuType": "A100",
   "provenance": []
  },
  "kernelspec": {
   "display_name": "Python 3",
   "name": "python3"
  },
  "language_info": {
   "name": "python"
  }
 },
 "nbformat": 4,
 "nbformat_minor": 0
}
